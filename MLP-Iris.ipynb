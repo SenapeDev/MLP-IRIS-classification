{
 "cells": [
  {
   "cell_type": "markdown",
   "id": "9d0c4c79-bbed-4c4a-a090-02c14831993d",
   "metadata": {},
   "source": [
    "### Importazione delle librerie\n",
    "- La libreria `json` è utilizzata per esportare ed importare i parametri della rete neurale, come valori dei pesi, dei bias, valore $\\eta$, ecc.\n",
    "- La libreria `numpy` è utilizzata per svolgere calcoli e operazioni matematiche e lavorare con strutture quali vettori e matrici.\n",
    "- La libreria `matplotlib.pyplot` è utilizzata per la rappresentazione di grafici. "
   ]
  },
  {
   "cell_type": "code",
   "execution_count": 5,
   "id": "7792d747-0f03-4173-aa12-a44649be6988",
   "metadata": {},
   "outputs": [],
   "source": [
    "import json\n",
    "import numpy as np\n",
    "import matplotlib.pyplot as plt"
   ]
  },
  {
   "cell_type": "markdown",
   "id": "5a5bd165-fe7d-4d6f-82ef-828d4b6ef77c",
   "metadata": {},
   "source": [
    "### Creazione degli alias\n",
    "Viene creato l'alias `vector` per il tipo `np.ndarray` definito dalla libreria `numpy`."
   ]
  },
  {
   "cell_type": "code",
   "execution_count": 6,
   "id": "26828093-4e2d-43ea-90eb-a2c12aa5d1d3",
   "metadata": {},
   "outputs": [],
   "source": [
    "vector = np.ndarray"
   ]
  },
  {
   "cell_type": "code",
   "execution_count": 7,
   "id": "a45c4a4f-d5ab-491d-8b8f-040c79dee7f6",
   "metadata": {},
   "outputs": [],
   "source": [
    "class NeuralNetwork:\n",
    "    def __init__(self, input_size: int, hidden_size: int, output_size: int, eta: float=.01, momentum: float=.9): \n",
    "        # neural network architecture\n",
    "        self.input_size = input_size\n",
    "        self.hidden_size = hidden_size\n",
    "        self.output_size = output_size\n",
    "        self.eta = eta\n",
    "        self.momentum = momentum\n",
    "        \n",
    "        # initialize neurons\n",
    "        self.input_neurons = np.zeros((1, self.input_size))\n",
    "        self.hidden_neurons = np.zeros((1, self.hidden_size))\n",
    "        self.output_neurons = np.zeros((1, self.output_size))\n",
    "\n",
    "        # weights for input -> hidden and for hidden -> output\n",
    "        self.IH_weights = np.random.uniform(-1, 1, (self.input_size, self.hidden_size))\n",
    "        self.HO_weights = np.random.uniform(-1, 1, (self.hidden_size, self.output_size))\n",
    "        \n",
    "        # bias for hidden and output layer\n",
    "        self.HL_bias = np.zeros((1, self.hidden_size))\n",
    "        self.OL_bias = np.zeros((1, self.output_size))\n",
    "    \n",
    "        # velocity terms for momentum\n",
    "        self.IH_velocity = np.zeros_like(self.IH_weights)\n",
    "        self.HO_velocity = np.zeros_like(self.HO_weights)\n",
    "        self.HL_velocity = np.zeros_like(self.HL_bias)\n",
    "        self.OL_velocity = np.zeros_like(self.OL_bias)"
   ]
  },
  {
   "cell_type": "markdown",
   "id": "cd7cce03-e21f-424d-9b9f-64b60bae604c",
   "metadata": {},
   "source": [
    "---\n",
    "### Funzione sigmoidea\n",
    "Funzione utilizzata come come funzione di attivazione nella rete neurale."
   ]
  },
  {
   "cell_type": "code",
   "execution_count": 8,
   "id": "dd81ecca-7e67-4d09-a466-5a697357e23c",
   "metadata": {},
   "outputs": [],
   "source": [
    "    def sigmoid(self, x):\n",
    "        return 1 / (1 + np.exp(-x))"
   ]
  },
  {
   "cell_type": "markdown",
   "id": "218f101e-0cd1-463e-8569-7b3aa24086cd",
   "metadata": {},
   "source": [
    "#### Derivata della funzione sigmoidea\n",
    "Funzione che restituisce il valore della derivata della funzione sigmoidea, utilizzato nella backpropagation."
   ]
  },
  {
   "cell_type": "code",
   "execution_count": 9,
   "id": "c6746913-a750-4cef-bbaf-ebd83e8b2312",
   "metadata": {},
   "outputs": [],
   "source": [
    "    def sigmoid_derivative(self, x):\n",
    "        s = self.sigmoid(x)\n",
    "        return s * (1 - s)"
   ]
  },
  {
   "cell_type": "markdown",
   "id": "a536f445-00fb-4560-aecd-d2b7ad1629c1",
   "metadata": {},
   "source": [
    "---\n",
    "### Funzione di propagazione in avanti\n",
    "La funzione riceve come parametro di input un vettore di input $X$.\n",
    "In un'architettura di rete neurale con un singolo strato nascosto, le operazioni da effettuare sono:\n",
    "1. Calcolo dell'input per l'hidden layer.\n",
    "2. Applicazione della funzione di attivazione per l'hidden layer.\n",
    "3. Calcolo dell'input per l'output layer.\n",
    "4. Applicazione della funzione di attivazione per l'output layer.\n",
    "\n",
    "#### Calcolo dell'input per l'hidden layer\n",
    "$$Z_{hidden}=XW_{IH}+b_{hidden}$$\n",
    "\n",
    "Dove:\n",
    "- $W_{IH}$ è la matrice dei pesi che connettono l'input layer all'hidden layer di dimensione $(I\\times H)$.\n",
    "- $b_{hidden}$ è il vettore dei bias per l'hidden layer di dimensioni ($1 \\times H$).\n",
    "- $Z_{hidden}$ è l'input per i neuroni dell'hidden layer.\n",
    "\n",
    "#### Applicazione della funzione di attivazione per l'hidden layer\n",
    "Si applica la funzione sigmoidea per ottenere l'attivazione dell'hidden layer.\n",
    "$$\\sigma(z) = \\frac{1}{1+e^{-Z_{hidden}}} $$\n",
    "\n",
    "#### Calcolo dell'input per l'output layer\n",
    "Analogamente al calcolo dell'input per l'hidden layer, si calcola l'input per l'output layer.\n",
    "$$Z_{output}=A_{hidden}W_{HO}+b_{output}$$\n",
    "\n",
    "Dove:\n",
    "- $A_{hidden}$ è l'output dell'hidden layer.\n",
    "- $W_{HO}$ è la matrice dei pesi che connettono l'hidden layer all'output layer di dimensione $(H\\times O)$.\n",
    "- $b_{output}$ è il vettore dei bias per l'output layer di dimensioni ($1 \\times O$).\n",
    "- $Z_{hidden}$ è l'output dell'output layer.\n",
    "\n",
    "#### Applicazione della funzione di attivazione per l'output layer\n",
    "Si applica nuovamente la funzione sigmoidea per ottenere l'attivazione dell'output layer.\n",
    "$$\\sigma(z) = \\frac{1}{1+e^{-Z_{output}}} $$"
   ]
  },
  {
   "cell_type": "code",
   "execution_count": 10,
   "id": "c9df90e5-b8cb-44ed-a8de-65ab3341a26f",
   "metadata": {},
   "outputs": [],
   "source": [
    "def feedforward(self, X: vector) -> vector:\n",
    "        # input -> hidden\n",
    "        self.input_neurons = X\n",
    "        self.hidden_input = np.dot(self.input_neurons, self.IH_weights) + self.HL_bias\n",
    "        self.hidden_neurons = self.sigmoid(self.hidden_input)\n",
    "\n",
    "        # hidden -> output\n",
    "        self.output_input = np.dot(self.hidden_neurons, self.HO_weights) + self.OL_bias\n",
    "        self.output_neurons = self.sigmoid(self.output_input)\n",
    "\n",
    "        return self.output_neurons"
   ]
  },
  {
   "cell_type": "markdown",
   "id": "6c8c1fa8-c993-42bf-9d0d-303ea34d3494",
   "metadata": {},
   "source": [
    "#### Output finale\n",
    "L'output finale è una matrice che rappresenta la probabilità per ciascun campione."
   ]
  },
  {
   "cell_type": "markdown",
   "id": "4d269e65-75a4-4ce1-a247-b42bfdeaa10c",
   "metadata": {},
   "source": [
    "---\n",
    "### Funzione di propagazione all'indietro\n",
    "La backpropagation aggiorna i pesi e i bias per minimizzare l'errore tra l'output previsto y_{pred} e l'output reale y_{true}.\n",
    "\n",
    "#### Calcolo dell'errore sull'output\n",
    "L'errore ottenuto nell'output layer è ottenuto da:\n",
    "$$E_{output} = y_{pred} - y_{true}$$\n",
    "\n",
    "Dove:\n",
    "- $E_{output}$ è l'errore dell'output layer.\n",
    "- $y_{pred}$ è l'output ottenuto.\n",
    "- $y_{true}$ è l'output reale.\n",
    "\n",
    "L'errore è quindi pesato dalla derivata della funzione sigmoidea:\n",
    "$$\\delta_{output}=E_{output} \\cdot \\sigma'(Z_{output})$$\n",
    "Dove:\n",
    "$$\\sigma'(Z_{output}) = \\sigma(Z_{output}) \\cdot (1 - \\sigma(Z_{output}))$$\n",
    "\n",
    "#### Propagazione dell'errore al layer nascosto\n",
    "Si calcola quanto ogni neurone dell'hidden layer abbia contribuito all'errore dell'output layer e viene calcolato:\n",
    "$$E_{hidden} = \\delta_{output} \\cdot W^{T}_{HO}$$\n",
    "Dove:\n",
    "- $W^{T}_{HO}$ è la matrice dei pesi tra l'hidden layer e l'output; viene trasposta in quanto si procede in direzione opposta al feedforward.\n",
    "- $E_{hidden}$ è l'errore associato all'hidden layer.\n",
    "\n",
    "Come per l'output, il termine $\\delta_{hidden}$ è dato da:\n",
    "$$\\delta_{hidden}=E_{hidden} \\cdot \\sigma'(Z_{hidden})$$\n",
    "\n",
    "#### Aggiornamento dei pesi e dei bias\n",
    "La velocity è utilizzata quando si parla di **momentum** nelle reti neurali. Serve a migliorare la stabilità e la velocità di convergenza durante l'aggiornamento dei pesi.\n",
    "##### Calcolo della velocity\n",
    "La formula generale con il momentum è:\n",
    "$$v_{t}=\\mu \\cdot v_{t-1}-\\eta \\cdot \\frac{\\partial L}{\\partial W}$$\n",
    "\n",
    "Dove:\n",
    "- $v_{t}$ è la velocity al passo $t$ e rappresenta l'aggiornamento dei pesi combinato con il momento.\n",
    "- $\\mu$ è il fattore di momento.\n",
    "- $v_{t-1}$ è la velocity del passo precedente.\n",
    "- $\\eta$ è il learning rate.\n",
    "- $\\frac{\\partial L}{\\partial W}$ è il gradiente della funzione di perdita rispetto ai pesi.\n",
    "\n",
    "##### Aggiornamento dei pesi\n",
    "I pesi vengono aggiornati usando la velocity calcolata:\n",
    "$$W_{t} = W_{t-1}+v_{t}$$\n",
    "\n",
    "##### Velocity e aggiornamento per i bias\n",
    "Simile ai pesi, viene aggiornata una velocity separata per i bias $b$."
   ]
  },
  {
   "cell_type": "code",
   "execution_count": 11,
   "id": "42905693-277e-41ed-990e-a03f626c80b1",
   "metadata": {},
   "outputs": [],
   "source": [
    "    def backpropagation(self, X: vector, y: vector) -> None:\n",
    "        # get error at output layer\n",
    "        output_error = self.output_neurons - y\n",
    "        output_delta = output_error * self.sigmoid_derivative(self.output_input)\n",
    "\n",
    "        # get error at hidden layer\n",
    "        hidden_error = np.dot(output_delta, self.HO_weights.T)\n",
    "        hidden_delta = hidden_error * self.sigmoid_derivative(self.hidden_input)\n",
    "\n",
    "        # update weights and biases with momentum\n",
    "        self.HO_velocity = self.momentum * self.HO_velocity - self.eta * np.dot(self.hidden_neurons.T, output_delta)\n",
    "        self.HO_weights += self.HO_velocity\n",
    "\n",
    "        self.OL_velocity = self.momentum * self.OL_velocity - self.eta * np.sum(output_delta, axis=0, keepdims=True)\n",
    "        self.OL_bias += self.OL_velocity\n",
    "\n",
    "        self.IH_velocity = self.momentum * self.IH_velocity - self.eta * np.dot(X.T, hidden_delta)\n",
    "        self.IH_weights += self.IH_velocity\n",
    "\n",
    "        self.HL_velocity = self.momentum * self.HL_velocity - self.eta * np.sum(hidden_delta, axis=0, keepdims=True)\n",
    "        self.HL_bias += self.HL_velocity"
   ]
  },
  {
   "cell_type": "markdown",
   "id": "067584e9-80ac-4c37-b6c6-535ca38e1586",
   "metadata": {},
   "source": [
    "---\n",
    "### Funzione di perdita\n",
    "Restituisce il valore di L'obiettivo è quello di minimizzare il valore di $L$.\n",
    "$$L = \\frac{\\sum^{N}_{i=1}(y_{true}-y_{pred})^2}{N}$$\n",
    "Dove:\n",
    "- $y_{pred}$ è l'output ottenuto.\n",
    "- $y_{true}$ è l'output reale.\n",
    "- $N$ è il numero di campioni."
   ]
  },
  {
   "cell_type": "code",
   "execution_count": 12,
   "id": "e54e98c2-c13c-4b40-8e5b-5e8e5ddd6fe0",
   "metadata": {},
   "outputs": [],
   "source": [
    "    def get_loss(self, y_true: vector, y_pred: vector) -> float:\n",
    "        return np.mean((y_true - y_pred) ** 2)"
   ]
  },
  {
   "cell_type": "markdown",
   "id": "eeebbaa9-d13c-40b1-b88a-a36f940b614e",
   "metadata": {},
   "source": [
    "---\n",
    "### Funzione di avvio allenamento"
   ]
  },
  {
   "cell_type": "code",
   "execution_count": 13,
   "id": "4c884699-a7a2-450f-90e0-f2337287f084",
   "metadata": {},
   "outputs": [],
   "source": [
    "    def train(self, X: vector, y: vector, epochs: int, debug: bool=False) -> None:\n",
    "        loss = np.zeros(epochs)\n",
    "\n",
    "        for i in range(epochs):\n",
    "            self.feedforward(X)\n",
    "            self.backpropagation(X, y)\n",
    "            \n",
    "            loss[i] = self.get_loss(y, self.output_neurons)\n",
    "            \n",
    "        if debug:\n",
    "            for i in range(epochs):\n",
    "                print(f\"Epoch {i+1}/{epochs}, Loss: {loss[i]:.2f}\")\n",
    "\n",
    "            plt.figure(figsize=(8, 5))\n",
    "            epochs = np.arange(len(loss))\n",
    "\n",
    "            plt.plot(epochs, loss, label='Loss', marker='o', markersize=4)\n",
    "            plt.title('Loss in function of epochs')\n",
    "            plt.xlabel('Epochs')\n",
    "            plt.ylabel('Loss')\n",
    "            plt.grid(True)\n",
    "            plt.legend()\n",
    "            plt.show()"
   ]
  },
  {
   "cell_type": "markdown",
   "id": "49e1142b-239c-4b28-8b4b-979b9beefc96",
   "metadata": {},
   "source": [
    "---\n",
    "## Allenamento e test della rete neurale"
   ]
  },
  {
   "cell_type": "code",
   "execution_count": 48,
   "id": "cc4daad8-6937-4040-8e30-87ad80c2ce4d",
   "metadata": {},
   "outputs": [],
   "source": [
    "import pandas as pd\n",
    "import numpy as np\n",
    "from NeuralNetwork import NeuralNetwork"
   ]
  },
  {
   "cell_type": "markdown",
   "id": "0935edac-1cf7-44c3-a52e-84d31908fb81",
   "metadata": {},
   "source": [
    "### Caricamento del dataset\n",
    "Il dataset `iris.data` viene caricato e assegnati i nomi alle colonne."
   ]
  },
  {
   "cell_type": "code",
   "execution_count": 43,
   "id": "7347abd8-7168-4b9e-8152-2edad397ecee",
   "metadata": {
    "scrolled": true
   },
   "outputs": [
    {
     "name": "stdout",
     "output_type": "stream",
     "text": [
      "   Sepal length  Sepal width  Petal length  Petal width        Class\n",
      "0           5.1          3.5           1.4          0.2  Iris-setosa\n",
      "1           4.9          3.0           1.4          0.2  Iris-setosa\n",
      "2           4.7          3.2           1.3          0.2  Iris-setosa\n",
      "3           4.6          3.1           1.5          0.2  Iris-setosa\n",
      "4           5.0          3.6           1.4          0.2  Iris-setosa \n",
      "\n"
     ]
    }
   ],
   "source": [
    "df = pd.read_csv(\"iris.data\", header=None)\n",
    "df.columns = [\"Sepal length\", \"Sepal width\", \"Petal length\", \"Petal width\", \"Class\"]\n",
    "\n",
    "print(df[:5], \"\\n\")"
   ]
  },
  {
   "cell_type": "markdown",
   "id": "556bf2ec-90aa-4f49-80f3-5fbf208087c6",
   "metadata": {},
   "source": [
    "### Crezione del vettore delle feature\n",
    "Il vettore $X$ contiene i valori numerici che verranno forniti in input alla rete neurale."
   ]
  },
  {
   "cell_type": "code",
   "execution_count": 44,
   "id": "cc401a73-3194-419f-9f7b-6077d43bddea",
   "metadata": {
    "scrolled": true
   },
   "outputs": [
    {
     "name": "stdout",
     "output_type": "stream",
     "text": [
      "[[5.1 3.5 1.4 0.2]\n",
      " [4.9 3.  1.4 0.2]\n",
      " [4.7 3.2 1.3 0.2]\n",
      " [4.6 3.1 1.5 0.2]\n",
      " [5.  3.6 1.4 0.2]] \n",
      "\n"
     ]
    }
   ],
   "source": [
    "X = df[[\"Sepal length\", \"Sepal width\", \"Petal length\", \"Petal width\"]].values\n",
    "print(X[:5], \"\\n\")"
   ]
  },
  {
   "cell_type": "markdown",
   "id": "975f0997-e4fc-4c15-9cfb-a7f815d7a423",
   "metadata": {},
   "source": [
    "### Crezione del vettore di output\n",
    "Il vettore $y$ contiene i nomi delle specie, in formato one-hot encoded, corrispondenti a ciascun campione di dati."
   ]
  },
  {
   "cell_type": "code",
   "execution_count": 45,
   "id": "41f2ef23-355e-455a-8a2f-df553b9749a2",
   "metadata": {
    "scrolled": true
   },
   "outputs": [
    {
     "name": "stdout",
     "output_type": "stream",
     "text": [
      "[[ True False False]\n",
      " [ True False False]\n",
      " [ True False False]\n",
      " [ True False False]\n",
      " [ True False False]] \n",
      "\n"
     ]
    }
   ],
   "source": [
    "y = pd.get_dummies(df[\"Class\"]).values\n",
    "print(y[:5], \"\\n\")"
   ]
  },
  {
   "cell_type": "markdown",
   "id": "4e49d7d3-41a3-4453-9150-985cef6bd0cc",
   "metadata": {},
   "source": [
    "### Divisione dei vettori di input e output per l'allenamento e il test\n",
    "Per ogni specie viene utilizzato l'80% dei dati per l'allenamento e il restante 20% per il test della rete."
   ]
  },
  {
   "cell_type": "code",
   "execution_count": 46,
   "id": "34709caf-e34e-4b93-a701-a5ac46d847db",
   "metadata": {},
   "outputs": [],
   "source": [
    "X_train = np.concatenate((X[:40], X[50:90], X[100:140]))\n",
    "y_train = np.concatenate((y[:40], y[50:90], y[100:140]))\n",
    "X_test = np.concatenate((X[40:50], X[90:100], X[140:150]))\n",
    "y_test = np.concatenate((y[40:50], y[90:100], y[140:150]))"
   ]
  },
  {
   "cell_type": "code",
   "execution_count": 51,
   "id": "6261d809-33d7-4f4b-8c1e-0bd3ff512238",
   "metadata": {
    "scrolled": true
   },
   "outputs": [
    {
     "name": "stdout",
     "output_type": "stream",
     "text": [
      "Epoch 1/100, Loss: 0.24\n",
      "Epoch 2/100, Loss: 0.23\n",
      "Epoch 3/100, Loss: 0.22\n",
      "Epoch 4/100, Loss: 0.22\n",
      "Epoch 5/100, Loss: 0.23\n",
      "Epoch 6/100, Loss: 0.23\n",
      "Epoch 7/100, Loss: 0.22\n",
      "Epoch 8/100, Loss: 0.22\n",
      "Epoch 9/100, Loss: 0.22\n",
      "Epoch 10/100, Loss: 0.21\n",
      "Epoch 11/100, Loss: 0.21\n",
      "Epoch 12/100, Loss: 0.21\n",
      "Epoch 13/100, Loss: 0.21\n",
      "Epoch 14/100, Loss: 0.20\n",
      "Epoch 15/100, Loss: 0.19\n",
      "Epoch 16/100, Loss: 0.18\n",
      "Epoch 17/100, Loss: 0.17\n",
      "Epoch 18/100, Loss: 0.16\n",
      "Epoch 19/100, Loss: 0.15\n",
      "Epoch 20/100, Loss: 0.14\n",
      "Epoch 21/100, Loss: 0.13\n",
      "Epoch 22/100, Loss: 0.13\n",
      "Epoch 23/100, Loss: 0.12\n",
      "Epoch 24/100, Loss: 0.11\n",
      "Epoch 25/100, Loss: 0.11\n",
      "Epoch 26/100, Loss: 0.10\n",
      "Epoch 27/100, Loss: 0.10\n",
      "Epoch 28/100, Loss: 0.10\n",
      "Epoch 29/100, Loss: 0.09\n",
      "Epoch 30/100, Loss: 0.09\n",
      "Epoch 31/100, Loss: 0.09\n",
      "Epoch 32/100, Loss: 0.08\n",
      "Epoch 33/100, Loss: 0.08\n",
      "Epoch 34/100, Loss: 0.08\n",
      "Epoch 35/100, Loss: 0.08\n",
      "Epoch 36/100, Loss: 0.07\n",
      "Epoch 37/100, Loss: 0.07\n",
      "Epoch 38/100, Loss: 0.07\n",
      "Epoch 39/100, Loss: 0.07\n",
      "Epoch 40/100, Loss: 0.06\n",
      "Epoch 41/100, Loss: 0.06\n",
      "Epoch 42/100, Loss: 0.06\n",
      "Epoch 43/100, Loss: 0.06\n",
      "Epoch 44/100, Loss: 0.05\n",
      "Epoch 45/100, Loss: 0.05\n",
      "Epoch 46/100, Loss: 0.05\n",
      "Epoch 47/100, Loss: 0.05\n",
      "Epoch 48/100, Loss: 0.04\n",
      "Epoch 49/100, Loss: 0.04\n",
      "Epoch 50/100, Loss: 0.04\n",
      "Epoch 51/100, Loss: 0.04\n",
      "Epoch 52/100, Loss: 0.04\n",
      "Epoch 53/100, Loss: 0.04\n",
      "Epoch 54/100, Loss: 0.04\n",
      "Epoch 55/100, Loss: 0.03\n",
      "Epoch 56/100, Loss: 0.03\n",
      "Epoch 57/100, Loss: 0.03\n",
      "Epoch 58/100, Loss: 0.03\n",
      "Epoch 59/100, Loss: 0.03\n",
      "Epoch 60/100, Loss: 0.03\n",
      "Epoch 61/100, Loss: 0.03\n",
      "Epoch 62/100, Loss: 0.03\n",
      "Epoch 63/100, Loss: 0.03\n",
      "Epoch 64/100, Loss: 0.03\n",
      "Epoch 65/100, Loss: 0.03\n",
      "Epoch 66/100, Loss: 0.02\n",
      "Epoch 67/100, Loss: 0.02\n",
      "Epoch 68/100, Loss: 0.02\n",
      "Epoch 69/100, Loss: 0.02\n",
      "Epoch 70/100, Loss: 0.02\n",
      "Epoch 71/100, Loss: 0.02\n",
      "Epoch 72/100, Loss: 0.02\n",
      "Epoch 73/100, Loss: 0.02\n",
      "Epoch 74/100, Loss: 0.02\n",
      "Epoch 75/100, Loss: 0.02\n",
      "Epoch 76/100, Loss: 0.02\n",
      "Epoch 77/100, Loss: 0.02\n",
      "Epoch 78/100, Loss: 0.02\n",
      "Epoch 79/100, Loss: 0.02\n",
      "Epoch 80/100, Loss: 0.02\n",
      "Epoch 81/100, Loss: 0.02\n",
      "Epoch 82/100, Loss: 0.02\n",
      "Epoch 83/100, Loss: 0.02\n",
      "Epoch 84/100, Loss: 0.02\n",
      "Epoch 85/100, Loss: 0.02\n",
      "Epoch 86/100, Loss: 0.02\n",
      "Epoch 87/100, Loss: 0.02\n",
      "Epoch 88/100, Loss: 0.02\n",
      "Epoch 89/100, Loss: 0.02\n",
      "Epoch 90/100, Loss: 0.02\n",
      "Epoch 91/100, Loss: 0.02\n",
      "Epoch 92/100, Loss: 0.02\n",
      "Epoch 93/100, Loss: 0.02\n",
      "Epoch 94/100, Loss: 0.02\n",
      "Epoch 95/100, Loss: 0.02\n",
      "Epoch 96/100, Loss: 0.02\n",
      "Epoch 97/100, Loss: 0.02\n",
      "Epoch 98/100, Loss: 0.02\n",
      "Epoch 99/100, Loss: 0.02\n",
      "Epoch 100/100, Loss: 0.02\n"
     ]
    },
    {
     "data": {
      "image/png": "[encoded data removed]",
      "text/plain": [
       "<Figure size 800x500 with 1 Axes>"
      ]
     },
     "metadata": {},
     "output_type": "display_data"
    }
   ],
   "source": [
    "nn = NeuralNetwork(4, 8, 3, eta=.01, momentum=0.9)\n",
    "nn.train(X=X_train, y=y_train, epochs=100, debug=True)"
   ]
  },
  {
   "cell_type": "code",
   "execution_count": 52,
   "id": "d3e2991e-220f-4e03-b6ba-63d982ae5d7b",
   "metadata": {},
   "outputs": [
    {
     "name": "stdout",
     "output_type": "stream",
     "text": [
      "96.56% that it is Iris-setosa. Actual: Iris-setosa. Result: True\n",
      "95.1% that it is Iris-setosa. Actual: Iris-setosa. Result: True\n",
      "96.4% that it is Iris-setosa. Actual: Iris-setosa. Result: True\n",
      "96.16% that it is Iris-setosa. Actual: Iris-setosa. Result: True\n",
      "95.87% that it is Iris-setosa. Actual: Iris-setosa. Result: True\n",
      "96.11% that it is Iris-setosa. Actual: Iris-setosa. Result: True\n",
      "96.38% that it is Iris-setosa. Actual: Iris-setosa. Result: True\n",
      "96.27% that it is Iris-setosa. Actual: Iris-setosa. Result: True\n",
      "96.44% that it is Iris-setosa. Actual: Iris-setosa. Result: True\n",
      "96.37% that it is Iris-setosa. Actual: Iris-setosa. Result: True\n",
      "78.72% that it is Iris-versicolor. Actual: Iris-versicolor. Result: True\n",
      "88.75% that it is Iris-versicolor. Actual: Iris-versicolor. Result: True\n",
      "93.38% that it is Iris-versicolor. Actual: Iris-versicolor. Result: True\n",
      "93.95% that it is Iris-versicolor. Actual: Iris-versicolor. Result: True\n",
      "89.08% that it is Iris-versicolor. Actual: Iris-versicolor. Result: True\n",
      "92.66% that it is Iris-versicolor. Actual: Iris-versicolor. Result: True\n",
      "91.66% that it is Iris-versicolor. Actual: Iris-versicolor. Result: True\n",
      "93.08% that it is Iris-versicolor. Actual: Iris-versicolor. Result: True\n",
      "91.3% that it is Iris-versicolor. Actual: Iris-versicolor. Result: True\n",
      "92.17% that it is Iris-versicolor. Actual: Iris-versicolor. Result: True\n",
      "95.3% that it is Iris-virginica. Actual: Iris-virginica. Result: True\n",
      "75.03% that it is Iris-virginica. Actual: Iris-virginica. Result: True\n",
      "94.67% that it is Iris-virginica. Actual: Iris-virginica. Result: True\n",
      "95.61% that it is Iris-virginica. Actual: Iris-virginica. Result: True\n",
      "95.49% that it is Iris-virginica. Actual: Iris-virginica. Result: True\n",
      "91.25% that it is Iris-virginica. Actual: Iris-virginica. Result: True\n",
      "91.5% that it is Iris-virginica. Actual: Iris-virginica. Result: True\n",
      "87.28% that it is Iris-virginica. Actual: Iris-virginica. Result: True\n",
      "94.65% that it is Iris-virginica. Actual: Iris-virginica. Result: True\n",
      "91.09% that it is Iris-virginica. Actual: Iris-virginica. Result: True\n",
      "Test Accuracy: 100.00%\n"
     ]
    },
    {
     "data": {
      "text/plain": [
       "100.0"
      ]
     },
     "execution_count": 52,
     "metadata": {},
     "output_type": "execute_result"
    }
   ],
   "source": [
    "nn.test(X=X_test, y=y_test, debug=True)"
   ]
  },
  {
   "cell_type": "code",
   "execution_count": null,
   "id": "be91f14c-935e-4659-9afd-714d38956e46",
   "metadata": {},
   "outputs": [],
   "source": []
  }
 ],
 "metadata": {
  "kernelspec": {
   "display_name": "Python 3 (ipykernel)",
   "language": "python",
   "name": "python3"
  },
  "language_info": {
   "codemirror_mode": {
    "name": "ipython",
    "version": 3
   },
   "file_extension": ".py",
   "mimetype": "text/x-python",
   "name": "python",
   "nbconvert_exporter": "python",
   "pygments_lexer": "ipython3",
   "version": "3.10.12"
  }
 },
 "nbformat": 4,
 "nbformat_minor": 5
}
